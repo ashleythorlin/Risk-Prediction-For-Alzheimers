{
 "cells": [
  {
   "attachments": {},
   "cell_type": "markdown",
   "metadata": {},
   "source": [
    "### Use the preprocessed data for ML model building. \n"
   ]
  },
  {
   "cell_type": "code",
   "execution_count": 201,
   "metadata": {},
   "outputs": [],
   "source": [
    "# Setup\n",
    "import numpy as np \n",
    "import pandas as pd \n",
    "import os\n",
    "\n",
    "# to make this notebook's output stable across runs\n",
    "np.random.seed(42)\n",
    "\n",
    "# To plot pretty figures\n",
    "%matplotlib inline\n",
    "import matplotlib as mpl\n",
    "import matplotlib.pyplot as plt\n",
    "mpl.rc('axes', labelsize=14)\n",
    "mpl.rc('xtick', labelsize=12)\n",
    "mpl.rc('ytick', labelsize=12)\n",
    "\n",
    "# Where to save the figures\n",
    "PROJECT_ROOT_DIR = \".\"\n",
    "IMAGES_PATH = os.path.join(PROJECT_ROOT_DIR, \"images/ml_modeling_images\")\n",
    "os.makedirs(IMAGES_PATH, exist_ok=True)\n",
    "\n",
    "def save_fig(fig_id, tight_layout=True, fig_extension=\"png\", resolution=300):\n",
    "    path = os.path.join(IMAGES_PATH, fig_id + \".\" + fig_extension)\n",
    "    print(\"Saving figure\", fig_id)\n",
    "    if tight_layout:\n",
    "        plt.tight_layout()\n",
    "    plt.savefig(path, format=fig_extension, dpi=resolution)\n",
    "\n",
    "ALZHEIMERS_PATH = \"dataset/afterpreprocessing\"\n",
    "alzheimers_dfs = []\n",
    "file_names = [\"Overall_Health\", \"Mental_Health\", \"Smoking_and_Alcohol_Use\", \"Screenings_and_Vaccines\", \"Nutrition_Physical_Activity_Obesity\", \"Caregiving\", \"Cognitive_Decline\"]\n",
    "\n",
    "for i in range(len(file_names)):\n",
    "    csv_path = os.path.join(ALZHEIMERS_PATH, f'{file_names[i]}.csv')\n",
    "    df = pd.read_csv(csv_path)\n",
    "    alzheimers_dfs.append(df)\n",
    "\n",
    "alzheimers_dfs[0].head()\n",
    "\n",
    "all_alzheimers_data = pd.read_csv(os.path.join(ALZHEIMERS_PATH, f'all_alzheimers_data.csv'))\n",
    "\n",
    "all_alzheimers_data.fillna(0, inplace=True)\n"
   ]
  },
  {
   "attachments": {},
   "cell_type": "markdown",
   "metadata": {},
   "source": [
    "### Full Feature Set With Decision Tree"
   ]
  },
  {
   "cell_type": "code",
   "execution_count": 202,
   "metadata": {},
   "outputs": [],
   "source": [
    "# Training and Visualizing a Decision Tree\n",
    "from sklearn.tree import DecisionTreeClassifier\n",
    "from sklearn.tree import export_graphviz\n",
    "from graphviz import Source\n",
    "\n",
    "def DecisionTreeModel(df):\n",
    "    tree_clf = DecisionTreeClassifier(max_depth=2, random_state=42)\n",
    "    for i in range(len(df)):\n",
    "        input = df[i].drop(['LocationDesc'], axis=1)\n",
    "        target = df[i]['LocationDesc']\n",
    "        tree_clf.fit(input, target)\n",
    "        graph = Source(export_graphviz(tree_clf, out_file=None, feature_names=input.columns, class_names=target, rounded=True, filled=True))\n",
    "\n",
    "        graph.format = 'png'\n",
    "        graph.render( IMAGES_PATH + '/decision_tree/' + file_names[i], view=False)\n",
    "\n",
    "DecisionTreeModel(alzheimers_dfs)"
   ]
  },
  {
   "cell_type": "code",
   "execution_count": 203,
   "metadata": {},
   "outputs": [
    {
     "name": "stdout",
     "output_type": "stream",
     "text": [
      "Overall_Health \n",
      " Input Train and Test Shape (141, 13) (36, 13) \n",
      " Target Train and Test Shape (141,) (36,)\n",
      "----------------------------------------------------\n",
      "Mental_Health \n",
      " Input Train and Test Shape (140, 3) (36, 3) \n",
      " Target Train and Test Shape (140,) (36,)\n",
      "----------------------------------------------------\n",
      "Smoking_and_Alcohol_Use \n",
      " Input Train and Test Shape (140, 3) (36, 3) \n",
      " Target Train and Test Shape (140,) (36,)\n",
      "----------------------------------------------------\n",
      "Screenings_and_Vaccines \n",
      " Input Train and Test Shape (141, 11) (36, 11) \n",
      " Target Train and Test Shape (141,) (36,)\n",
      "----------------------------------------------------\n",
      "Nutrition_Physical_Activity_Obesity \n",
      " Input Train and Test Shape (141, 5) (36, 5) \n",
      " Target Train and Test Shape (141,) (36,)\n",
      "----------------------------------------------------\n",
      "Caregiving \n",
      " Input Train and Test Shape (122, 6) (31, 6) \n",
      " Target Train and Test Shape (122,) (31,)\n",
      "----------------------------------------------------\n",
      "Cognitive_Decline \n",
      " Input Train and Test Shape (136, 5) (35, 5) \n",
      " Target Train and Test Shape (136,) (35,)\n",
      "----------------------------------------------------\n"
     ]
    }
   ],
   "source": [
    "# split input and target into training and testing sets\n",
    "from sklearn.model_selection import train_test_split\n",
    "def train_test_decision_tree(df):\n",
    "    for i in range(len(df)):\n",
    "        input = df[i].drop(['LocationDesc'], axis=1)\n",
    "        target = df[i]['LocationDesc']\n",
    "        input_train, input_test, target_train, target_test = train_test_split(input, target, test_size=0.2, random_state=42)\n",
    "        print(f'{file_names[i]} \\n Input Train and Test Shape', input_train.shape, input_test.shape,\n",
    "              '\\n Target Train and Test Shape',target_train.shape, target_test.shape)\n",
    "        print('----------------------------------------------------')\n",
    "        \n",
    "train_test_decision_tree(alzheimers_dfs)\n"
   ]
  },
  {
   "attachments": {},
   "cell_type": "markdown",
   "metadata": {},
   "source": [
    "### Reduced Feature Set With Random Forest"
   ]
  },
  {
   "cell_type": "code",
   "execution_count": 204,
   "metadata": {},
   "outputs": [],
   "source": [
    "# top feature selector\n",
    "from sklearn.feature_selection import SelectKBest\n",
    "from sklearn.feature_selection import chi2\n",
    "\n",
    "def top_feature_selector(df, top_num=20):\n",
    "    input = df.drop(['LocationDesc'], axis=1)\n",
    "    target = df['LocationDesc']\n",
    "    bestfeatures = SelectKBest(score_func=chi2, k=3)\n",
    "    fit = bestfeatures.fit(input,target)\n",
    "    dfscores = pd.DataFrame(fit.scores_)\n",
    "    dfcolumns = pd.DataFrame(input.columns)\n",
    "    featureScores = pd.concat([dfcolumns,dfscores],axis=1)\n",
    "    featureScores.columns = ['Specs','Score']  #naming the dataframe columns\n",
    "    print(featureScores.nlargest(top_num,'Score'))  #print 10 best features\n",
    "    print('----------------------------------------------------')\n",
    "    return dfcolumns\n"
   ]
  },
  {
   "attachments": {},
   "cell_type": "markdown",
   "metadata": {},
   "source": [
    "We are removing features that would not help us predict the probability of a patient having Alzheimer's:\n",
    "\n",
    "- \"Duration of caregiving among older adults\" - Many older adults seek caregiving due to an Alzheimer's diagnosis.\n",
    "- \"Intensity of caregiving among older adults\" - Many older adults seek caregiving due to an Alzheimer's diagnosis.\n",
    "- \"Talked with health care professional about subjective cognitive decline or memory loss\" - Our risk prediction model is for those considering seeking testing for Alzheimer's, so speaking with a health care professional is implied.\n",
    "- \"Expect to provide care for someone in the next two years\" - This feature is irrelevant.\n",
    "- \"Provide care for a friend or family member in past month\" - This feature is irrelevant.\n",
    "- \"Provide care for someone with cognitive impairment within the past month\" - This feature is irrelevant.\n",
    "- \"Self-rated health (fair to poor health)\" - This feature is subjective, so we believe it might not always be accurate.\n",
    "- \"Self-rated health (good to excellent health)\" - This feature is subjective, so we believe it might not always be accurate."
   ]
  }
 ],
 "metadata": {
  "kernelspec": {
   "display_name": "cpsc-483",
   "language": "python",
   "name": "python3"
  },
  "language_info": {
   "codemirror_mode": {
    "name": "ipython",
    "version": 3
   },
   "file_extension": ".py",
   "mimetype": "text/x-python",
   "name": "python",
   "nbconvert_exporter": "python",
   "pygments_lexer": "ipython3",
   "version": "3.8.0"
  },
  "orig_nbformat": 4
 },
 "nbformat": 4,
 "nbformat_minor": 2
}
